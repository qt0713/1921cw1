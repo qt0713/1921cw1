{
  "nbformat": 4,
  "nbformat_minor": 0,
  "metadata": {
    "colab": {
      "provenance": [],
      "include_colab_link": true
    },
    "kernelspec": {
      "name": "python3",
      "display_name": "Python 3"
    },
    "language_info": {
      "name": "python"
    }
  },
  "cells": [
    {
      "cell_type": "markdown",
      "metadata": {
        "id": "view-in-github",
        "colab_type": "text"
      },
      "source": [
        "<a href=\"https://colab.research.google.com/github/qt0713/1921cw1/blob/main/SearchExercise7.ipynb\" target=\"_parent\"><img src=\"https://colab.research.google.com/assets/colab-badge.svg\" alt=\"Open In Colab\"/></a>"
      ]
    },
    {
      "cell_type": "markdown",
      "source": [
        "## **Search Exercise 7**\n",
        "# Sliding Blocks Puzzles\n",
        "\n",
        "In this exercise we shall investigate a family of _**sliding blocks**_ puzzles, which can be regarded as a generalisation of puzzles such as **8-Puzzle** and **15-Puzzle**. We now consider puzzles in which the sliding elements are not only single squares but can also be any shape formed by joining several squares\n",
        "(sometimes called _polyominoes_).\n",
        "\n",
        "You can see a wide variety of examples of sliding block puzzles at:\n",
        "* [Nick Baxter's Sliding Block Puzzle Page](https://www.johnrausch.com/SlidingBlockPuzzles/)\n",
        "\n",
        "### Exercise Overview\n",
        "\n",
        "This exercise will provide you with classes that can represent sliding blocks puzzles in a general way and include methods that interface the representation with Brandon's `bbSearch` module.\n",
        "\n",
        "It will illustrate the use of `bbSearch` for this kind of problem with a few examples. It will then consider possible heuristics. You will see that event quite simple heuristics can give very significant performance improvements, compared to exhaustive un-informed search.\n",
        "\n",
        "Having seen these examples you will be ready to do some investigation and experimentation on your own, including:\n",
        "\n",
        "* Creating your own puzzles of different levels of difficulty.\n",
        "* Testing different search algorithms and parameters.\n",
        "* Devising heuristics to guide the search.\n",
        "* Carrying out systemmatic comparisons between different search algorithms on a variety of different problems and using different heuristics."
      ],
      "metadata": {
        "id": "V3VkWCHXx5GH"
      }
    },
    {
      "cell_type": "markdown",
      "source": [
        "### Setup\n",
        "\n",
        "As usual we will be using `bbSearch.py`, which is loaded by the following cell. By now, if you have been doing the search exercises you should be familiar with how this software works. However, if you need some revision of how to run the search algorithm and the various options available, you should go back to **Search Exercise 2** which explains the basic usuage. And you may also want to go through some of the examples in exercises **3-6**."
      ],
      "metadata": {
        "id": "UFW0VQew07wZ"
      }
    },
    {
      "cell_type": "code",
      "source": [
        "!echo Installing bbSearch module from web ...\n",
        "!echo creating bbmodcache subfolder\n",
        "!mkdir -p bbmodcache\n",
        "!echo downloading bbSearch module\n",
        "!curl http://bb-ai.net.s3.amazonaws.com/bb-python-modules/bbSearch.py > bbmodcache/bbSearch.py\n",
        "\n",
        "from bbmodcache.bbSearch import SearchProblem, search"
      ],
      "metadata": {
        "id": "ka6-us-52Xp-",
        "colab": {
          "base_uri": "https://localhost:8080/"
        },
        "outputId": "bf5518ed-86fd-45f2-fc5d-fcc7f422d393"
      },
      "execution_count": null,
      "outputs": [
        {
          "output_type": "stream",
          "name": "stdout",
          "text": [
            "Installing bbSearch module from web ...\n",
            "creating bbmodcache subfolder\n",
            "downloading bbSearch module\n",
            "  % Total    % Received % Xferd  Average Speed   Time    Time     Time  Current\n",
            "                                 Dload  Upload   Total   Spent    Left  Speed\n",
            "100 18767  100 18767    0     0  40664      0 --:--:-- --:--:-- --:--:-- 40621\n",
            "Loading bbSearch Version 2.1 (at 14:13, Fri 21 Jun)\n",
            "Last module source code edit 9am Thursday 24th Feb 2022\n"
          ]
        }
      ]
    },
    {
      "cell_type": "markdown",
      "source": [
        "### State Representation:\n",
        "We will represent a given state of a sliding blocks puzzle by an array stored as a list of lists --- a list of rows, with each row being a list of individual cells. (This representation has been chosen for clarity rather than efficiency.) Each cell will contain an integer, where `0` will represent an empty cell and positive integers will represent the colour of a _polyomino_ section contained in that cell.\n",
        "\n",
        "So a state might be represented as follows:\n",
        "```python\n",
        "  [ [1,3,0,0,0,0,6],\n",
        "    [1,3,4,4,0,0,0],\n",
        "    [3,3,4,0,0,0,0],\n",
        "    [0,4,4,2,0,0,0],\n",
        "    [0,0,2,2,5,5,5] ]\n",
        "```\n",
        "You will see a colouful graphic representation of this puzzle state below, once we have defined a class of storing, manipulating and displaying puzzle states.\n"
      ],
      "metadata": {
        "id": "dWbwHZ3R3b8s"
      }
    },
    {
      "cell_type": "markdown",
      "source": [
        "## The `BlockState` Class\n",
        "\n",
        "Although the list-of-lists array format is a concise way to specify and store puzzle states, it will be convenient to define a class that can encapsulate the various methods that we will want to use to access, manipulate, and display the states of a Sliding Blocks puzzle.\n",
        "\n",
        "Take a look at the following code cell that defines `BlockState`. You don't need to worry much about `figure` that creates a graphical display. However, it will be useful to look at: `possible_moves` and `next_state`, which will be used by the search algorithm, and it may also be interesting to look at `free_cell` and `free_block`, that are used in calculating `possible_moves`.\n",
        "\n",
        "Note the global variable `COLORS`, which implicitly specifies a mapping from integers to colours that is used to specify board states and goals. Integer `n` corresponds to the `n`th colour name in the list."
      ],
      "metadata": {
        "id": "3PUSiSBd6BoU"
      }
    },
    {
      "cell_type": "code",
      "source": [
        "import matplotlib.pyplot as plt\n",
        "import matplotlib.patches as patches\n",
        "from copy import deepcopy\n",
        "\n",
        "plt.ioff()  ## Turn off immediate display of plots\n",
        "\n",
        "COLORS = [\"lightgray\", \"red\", \"blue\", \"green\", \"yellow\",\n",
        "          \"orange\", \"purple\", \"pink\", \"brown\"]\n",
        "\n",
        "class BlockState:\n",
        "\n",
        "      # Specify mapping from directions to grid coordinate offsets:\n",
        "      neighbour_offset = {\"left\": (0,-1), \"right\": (0,+1), \"down\":(+1,0), \"up\":(-1,0)}\n",
        "\n",
        "      def __init__( self, blockstate, colors=COLORS ):\n",
        "        self.blockstate = blockstate\n",
        "        self.nrows = len(blockstate)\n",
        "        self.ncols = len(blockstate[0])\n",
        "        self.blocknums = set().union(*[set(row) for row in blockstate])\n",
        "        self.blocknums = self.blocknums - {0}\n",
        "        self.blocknumlist = list(self.blocknums)\n",
        "        self.colors = colors\n",
        "\n",
        "      def __repr__(self):\n",
        "        return( str( self.blockstate ))\n",
        "\n",
        "      # Find the cells occupied by a given number\n",
        "      def blockcells( self, blocknum ):\n",
        "          blockcells = []\n",
        "          for row in range(self.nrows):\n",
        "            for col in range(self.ncols):\n",
        "              if self.blockstate[row][col] == blocknum:\n",
        "                blockcells.append((row,col))\n",
        "          return blockcells\n",
        "\n",
        "      # Test if a cell is free (unblocked) in a given direction\n",
        "      # Free if not blocked by edge of grid or by a cell of different colour\n",
        "      def free_cell( self, direction, cell ):\n",
        "        row, col = cell\n",
        "        offrow, offcol = BlockState.neighbour_offset[direction]\n",
        "        neighrow, neighcol = (row + offrow, col + offcol)\n",
        "        if not (0 <= neighrow < self.nrows): return False #at top or bottom\n",
        "        if not (0 <= neighcol < self.ncols): return False #at left or right\n",
        "        neighval = self.blockstate[neighrow][neighcol]\n",
        "        # Neighboring cell must be empty or part of the same coloured block\n",
        "        return  (neighval==0 or neighval==self.blockstate[row][col])\n",
        "\n",
        "      def free_block( self, direction, blockn ):\n",
        "          blockcells = self.blockcells(blockn)\n",
        "          for cell in blockcells:\n",
        "            if not self.free_cell(direction, cell):\n",
        "              return False\n",
        "          return True\n",
        "\n",
        "      def possible_moves(self):\n",
        "        moves = []\n",
        "        for blocknum in self.blocknumlist:\n",
        "          for direction in [\"left\", \"right\", \"down\", \"up\"]:\n",
        "              if self.free_block(direction, blocknum):\n",
        "                  moves.append((blocknum, direction))\n",
        "        return moves\n",
        "\n",
        "      def next_state(self, move):\n",
        "          next_blockstate = deepcopy(self.blockstate)\n",
        "          blockno, direction = move\n",
        "          cells = self.blockcells(blockno)\n",
        "          ## first clear all cells of the block (set to 0)\n",
        "          for cell in cells:\n",
        "            row, col = cell\n",
        "            next_blockstate[row][col] = 0\n",
        "          rowoff, coloff = BlockState.neighbour_offset[direction]\n",
        "          ## now set all neighbour cells (in move direction) to be\n",
        "          ## cells with the blocknumber\n",
        "          for cell in cells:\n",
        "            row, col = cell\n",
        "            next_blockstate[row+rowoff][col+coloff] = blockno\n",
        "          return BlockState(next_blockstate)\n",
        "\n",
        "      def color_key(self):\n",
        "          return {b:self.colors[b] for b in self.blocknumlist}\n",
        "\n",
        "      def figure(self, scale=0.5):\n",
        "          nrows = self.nrows\n",
        "          ncols = self.ncols\n",
        "          fig, ax = plt.subplots(figsize=(ncols*scale+0.1,nrows*scale+0.1))\n",
        "          plt.close(fig)\n",
        "          ax.set_axis_off() # Don't show border lines and coordinate values\n",
        "\n",
        "          frame = patches.Rectangle((0,0),1,1, linewidth=5, edgecolor='k', facecolor='w')\n",
        "          ax.add_patch(frame)\n",
        "\n",
        "          for row in range(nrows):\n",
        "            for col in range(ncols):\n",
        "                greyrect = patches.Rectangle( (((col*0.9)/ncols)+0.05,\n",
        "                                               (((nrows-row-1)*0.9)/nrows)+0.05 ),\n",
        "                                            0.9/ncols, 0.9/nrows,\n",
        "                                            linewidth=1, edgecolor=\"gray\", facecolor=\"lightgray\")\n",
        "                ax.add_patch(greyrect)\n",
        "\n",
        "          for row in range(nrows):\n",
        "            for col in range(ncols):\n",
        "                cellval = self.blockstate[row][col]\n",
        "                if cellval > 0:\n",
        "                  cellcol = COLORS[cellval]\n",
        "                  rect = patches.Rectangle( (((col*0.9)/ncols)+0.05,\n",
        "                                             (((nrows-row-1)*0.9)/nrows)+0.05 ),\n",
        "                                            0.9/ncols, 0.9/nrows,\n",
        "                                            linewidth=0, edgecolor=cellcol, facecolor=cellcol)\n",
        "                  ax.add_patch(rect)\n",
        "          return fig\n",
        "\n",
        "      def display(self):\n",
        "          display(self.figure())"
      ],
      "metadata": {
        "id": "c6a4l5en38si"
      },
      "execution_count": null,
      "outputs": []
    },
    {
      "cell_type": "markdown",
      "source": [
        "## Creating and displaying a `BlockState` object\n",
        "\n",
        "Using the `BlockState` class we can easily create and display a `BlockState` object corresponding to a given puzzle state. This is illustrated by the following code cell:"
      ],
      "metadata": {
        "id": "Gdnr3ktQ2FW7"
      }
    },
    {
      "cell_type": "code",
      "source": [
        "state = [[1,3,0,0,0,0,6],\n",
        "         [1,3,4,4,0,0,0],\n",
        "         [3,3,4,0,0,0,0],\n",
        "         [0,4,4,2,0,0,0],\n",
        "         [0,0,2,2,5,5,5]]\n",
        "\n",
        "bs = BlockState(state)\n",
        "bs.display()"
      ],
      "metadata": {
        "id": "oHZ3mE731kfK",
        "colab": {
          "base_uri": "https://localhost:8080/",
          "height": 237
        },
        "outputId": "4369549c-fe2e-4bfd-ec5d-6cb6c0ad460b"
      },
      "execution_count": null,
      "outputs": [
        {
          "output_type": "display_data",
          "data": {
            "text/plain": [
              "<Figure size 360x260 with 1 Axes>"
            ],
            "image/png": "[encoded data removed]"
          },
          "metadata": {}
        }
      ]
    },
    {
      "cell_type": "markdown",
      "source": [
        "## The `SlidingBlocksPuzzle` class\n",
        "Now we specify the `SlidingBlocksPuzzle` class, which defines all the methods required to be used by the `bbsearch.search` function. You will see that most of these refer to functions that have already been defined within the `BlockState` class, so the definitions here are relatively simple."
      ],
      "metadata": {
        "id": "ydNi4fSY4wMr"
      }
    },
    {
      "cell_type": "code",
      "source": [
        "from copy import deepcopy\n",
        "class SlidingBlocksPuzzle( SearchProblem ):\n",
        "\n",
        "    def __init__( self, initial_state, goal, colors=COLORS ):\n",
        "        \"\"\"\n",
        "        The __init__ method must set the initial state for the search.\n",
        "        Arguments could be added to __init__ and used to configure the\n",
        "        initial state and/or other aspects of a problem instance.\n",
        "        \"\"\"\n",
        "        self.initial_state = BlockState(initial_state, colors=colors)\n",
        "        self.colors = colors\n",
        "        self.goal = BlockState(goal)\n",
        "\n",
        "    def info(self):\n",
        "        print(\"Solve the following sliding blocks problem.\")\n",
        "        print(\"Get from this initial state:\")\n",
        "        self.initial_state.display()\n",
        "        print(\"To a state incorporating the following block position(s):\")\n",
        "        self.goal.display()\n",
        "        print(\"You need to slide the red block to cover the bottom right square.\")\n",
        "\n",
        "    def possible_actions(self, state):\n",
        "        return state.possible_moves()\n",
        "\n",
        "    def successor(self, state, action):\n",
        "        \"\"\"\n",
        "        This takes a state and an action and returns the new state resulting\n",
        "        from doing that action in that state. You can assume that the given\n",
        "        action is in the list of 'possible_actions' for that state.\n",
        "        \"\"\"\n",
        "        return state.next_state(action)\n",
        "\n",
        "    def goal_test(self, state):\n",
        "        \"\"\"\n",
        "        For the sliding blocks puzzles, the goal condition is reached when\n",
        "        all block possitions specified in the given goal state are satisfied by\n",
        "        the current state. But empty positions (ie 0s) in the goal are ignored,\n",
        "        so can be occupied by blocks in the current sate.\n",
        "        \"\"\"\n",
        "        for row in range(state.nrows):\n",
        "          for col in range(state.ncols):\n",
        "            goalnum = self.goal.blockstate[row][col]\n",
        "            if goalnum==0:\n",
        "              continue\n",
        "            if goalnum != state.blockstate[row][col]:\n",
        "              return False\n",
        "        return True\n",
        "\n",
        "\n",
        "    def cost(self, path, state):\n",
        "        \"\"\"\n",
        "        This is an optional method that you only need to define if you are using\n",
        "        a cost based algorithm such as \"uniform cost\" or \"A*\". It should return\n",
        "        the cost of reaching a given state via a given path.\n",
        "        If this is not re-defined, it will is assumed that each action costs one unit\n",
        "        of effort to perform, so it returns the length of the path.\n",
        "        \"\"\"\n",
        "        return len(path)\n",
        "\n",
        "    def display_action(self, action):\n",
        "        \"\"\"\n",
        "        You can set the way an action will be displayed in outputs.\n",
        "        \"\"\"\n",
        "        print((self.colors[action[0]], action[1]))\n",
        "\n",
        "    def display_state(self, state):\n",
        "        \"\"\"\n",
        "        You can set the way a state will be displayed in outputs.\n",
        "        \"\"\"\n",
        "        state.display()\n",
        "\n",
        "    def display_state_path( self, actions ):\n",
        "        \"\"\"\n",
        "        This defines output of a solution path when a list of actions\n",
        "        is applied to the initial state. It assumes it is a valid path\n",
        "        with all actions being possible in the preceeding state.\n",
        "        You probably don't need to override this.\n",
        "        \"\"\"\n",
        "        s = self.initial_state\n",
        "        self.display_state(s)\n",
        "        for a in actions:\n",
        "            self.display_action(a)\n",
        "            s = self.successor(s,a)\n",
        "            self.display_state(s)"
      ],
      "metadata": {
        "id": "tOD1uDf62snN"
      },
      "execution_count": null,
      "outputs": []
    },
    {
      "cell_type": "markdown",
      "source": [
        "## A small and simple test case\n",
        "We are now ready to try out the `SlidingBlocksPuzzle` class for a simple puzzle example. We specify the initial and goal states and use these to create an instance of `SlidingBlocksPuzzle`."
      ],
      "metadata": {
        "id": "GChk6xAO5qJC"
      }
    },
    {
      "cell_type": "code",
      "source": [
        "small_initial = [[0,0,1,1],\n",
        "                 [4,4,1,0],\n",
        "                 [0,2,6,0],\n",
        "                 [2,2,6,0]]\n",
        "\n",
        "small_goal    = [[0,0,0,0],\n",
        "                 [0,0,0,0],\n",
        "                 [0,0,1,1],\n",
        "                 [0,0,1,0]]\n",
        "\n",
        "small_puzzle =  SlidingBlocksPuzzle( small_initial, small_goal )\n",
        "\n"
      ],
      "metadata": {
        "id": "WNFNtxx7-pEQ"
      },
      "execution_count": null,
      "outputs": []
    },
    {
      "cell_type": "markdown",
      "source": [
        "## Ready to test\n",
        "Let us now do a breadth first search to try to solve `small_puzzle`."
      ],
      "metadata": {
        "id": "DPapjHb47Y7T"
      }
    },
    {
      "cell_type": "code",
      "source": [
        "small_search = search( small_puzzle, 'BF/FIFO', 10000000, loop_check=True, randomise=False, show_state_path=True, return_info=True)"
      ],
      "metadata": {
        "id": "oIl8zem76DE-",
        "colab": {
          "base_uri": "https://localhost:8080/",
          "height": 1000
        },
        "outputId": "b3a27fbe-72b1-48fa-baab-efd9595c7847"
      },
      "execution_count": null,
      "outputs": [
        {
          "output_type": "stream",
          "name": "stdout",
          "text": [
            "Solve the following sliding blocks problem.\n",
            "Get from this initial state:\n"
          ]
        },
        {
          "output_type": "display_data",
          "data": {
            "text/plain": [
              "<Figure size 210x210 with 1 Axes>"
            ],
            "image/png": "[encoded data removed]"
          },
          "metadata": {}
        },
        {
          "output_type": "stream",
          "name": "stdout",
          "text": [
            "To a state incorporating the following block position(s):\n"
          ]
        },
        {
          "output_type": "display_data",
          "data": {
            "text/plain": [
              "<Figure size 210x210 with 1 Axes>"
            ],
            "image/png": "[encoded data removed]"
          },
          "metadata": {}
        },
        {
          "output_type": "stream",
          "name": "stdout",
          "text": [
            "You need to slide the red block to cover the bottom right square.\n",
            "\n",
            "** Running Brandon's Search Algorithm **\n",
            "Strategy: mode=BF/FIFO, cost=None, heuristic=None\n",
            "Max search nodes: 10000000  (max number added to queue)\n",
            "Searching (will output '.' each 1000 goal_tests)\n",
            "\n",
            ":-)) *SUCCESS* ((-:\n",
            "\n",
            "Path length = 41\n",
            "Goal state is:\n"
          ]
        },
        {
          "output_type": "display_data",
          "data": {
            "text/plain": [
              "<Figure size 210x210 with 1 Axes>"
            ],
            "image/png": "[encoded data removed]"
          },
          "metadata": {}
        },
        {
          "output_type": "stream",
          "name": "stdout",
          "text": [
            "The action path to the solution is:\n",
            "('purple', 'right')\n",
            "('blue', 'right')\n",
            "('yellow', 'down')\n",
            "('red', 'left')\n",
            "('red', 'left')\n",
            "('purple', 'up')\n",
            "('purple', 'up')\n",
            "('blue', 'right')\n",
            "('yellow', 'right')\n",
            "('yellow', 'up')\n",
            "('blue', 'left')\n",
            "('purple', 'down')\n",
            "('purple', 'down')\n",
            "('yellow', 'right')\n",
            "('red', 'down')\n",
            "('yellow', 'up')\n",
            "('yellow', 'left')\n",
            "('yellow', 'left')\n",
            "('purple', 'up')\n",
            "('purple', 'up')\n",
            "('blue', 'right')\n",
            "('purple', 'left')\n",
            "('purple', 'down')\n",
            "('yellow', 'right')\n",
            "('yellow', 'right')\n",
            "('red', 'up')\n",
            "('purple', 'left')\n",
            "('blue', 'up')\n",
            "('purple', 'down')\n",
            "('red', 'down')\n",
            "('yellow', 'left')\n",
            "('blue', 'up')\n",
            "('yellow', 'left')\n",
            "('purple', 'right')\n",
            "('red', 'down')\n",
            "('blue', 'left')\n",
            "('purple', 'right')\n",
            "('red', 'right')\n",
            "('purple', 'up')\n",
            "('purple', 'up')\n",
            "('red', 'right')\n",
            "\n",
            "The state/action path to the solution is:\n"
          ]
        },
        {
          "output_type": "display_data",
          "data": {
            "text/plain": [
              "<Figure size 210x210 with 1 Axes>"
            ],
            "image/png": "[encoded data removed]"
          },
          "metadata": {}
        },
        {
          "output_type": "stream",
          "name": "stdout",
          "text": [
            "('purple', 'right')\n"
          ]
        },
        {
          "output_type": "display_data",
          "data": {
            "text/plain": [
              "<Figure size 210x210 with 1 Axes>"
            ],
            "image/png": "[encoded data removed]"
          },
          "metadata": {}
        },
        {
          "output_type": "stream",
          "name": "stdout",
          "text": [
            "('blue', 'right')\n"
          ]
        },
        {
          "output_type": "display_data",
          "data": {
            "text/plain": [
              "<Figure size 210x210 with 1 Axes>"
            ],
            "image/png": "[encoded data removed]"
          },
          "metadata": {}
        },
        {
          "output_type": "stream",
          "name": "stdout",
          "text": [
            "('yellow', 'down')\n"
          ]
        },
        {
          "output_type": "display_data",
          "data": {
            "text/plain": [
              "<Figure size 210x210 with 1 Axes>"
            ],
            "image/png": "[encoded data removed]"
          },
          "metadata": {}
        },
        {
          "output_type": "stream",
          "name": "stdout",
          "text": [
            "('red', 'left')\n"
          ]
        },
        {
          "output_type": "display_data",
          "data": {
            "text/plain": [
              "<Figure size 210x210 with 1 Axes>"
            ],
            "image/png": "[encoded data removed]"
          },
          "metadata": {}
        },
        {
          "output_type": "stream",
          "name": "stdout",
          "text": [
            "('red', 'left')\n"
          ]
        },
        {
          "output_type": "display_data",
          "data": {
            "text/plain": [
              "<Figure size 210x210 with 1 Axes>"
            ],
            "image/png": "[encoded data removed]"
          },
          "metadata": {}
        },
        {
          "output_type": "stream",
          "name": "stdout",
          "text": [
            "('purple', 'up')\n"
          ]
        },
        {
          "output_type": "display_data",
          "data": {
            "text/plain": [
              "<Figure size 210x210 with 1 Axes>"
            ],
            "image/png": "[encoded data removed]"
          },
          "metadata": {}
        },
        {
          "output_type": "stream",
          "name": "stdout",
          "text": [
            "('purple', 'up')\n"
          ]
        },
        {
          "output_type": "display_data",
          "data": {
            "text/plain": [
              "<Figure size 210x210 with 1 Axes>"
            ],
            "image/png": "[encoded data removed]"
          },
          "metadata": {}
        },
        {
          "output_type": "stream",
          "name": "stdout",
          "text": [
            "('blue', 'right')\n"
          ]
        },
        {
          "output_type": "display_data",
          "data": {
            "text/plain": [
              "<Figure size 210x210 with 1 Axes>"
            ],
            "image/png": "[encoded data removed]"
          },
          "metadata": {}
        },
        {
          "output_type": "stream",
          "name": "stdout",
          "text": [
            "('yellow', 'right')\n"
          ]
        },
        {
          "output_type": "display_data",
          "data": {
            "text/plain": [
              "<Figure size 210x210 with 1 Axes>"
            ],
            "image/png": "[encoded data removed]"
          },
          "metadata": {}
        },
        {
          "output_type": "stream",
          "name": "stdout",
          "text": [
            "('yellow', 'up')\n"
          ]
        },
        {
          "output_type": "display_data",
          "data": {
            "text/plain": [
              "<Figure size 210x210 with 1 Axes>"
            ],
            "image/png": "[encoded data removed]"
          },
          "metadata": {}
        },
        {
          "output_type": "stream",
          "name": "stdout",
          "text": [
            "('blue', 'left')\n"
          ]
        },
        {
          "output_type": "display_data",
          "data": {
            "text/plain": [
              "<Figure size 210x210 with 1 Axes>"
            ],
            "image/png": "[encoded data removed]"
          },
          "metadata": {}
        },
        {
          "output_type": "stream",
          "name": "stdout",
          "text": [
            "('purple', 'down')\n"
          ]
        },
        {
          "output_type": "display_data",
          "data": {
            "text/plain": [
              "<Figure size 210x210 with 1 Axes>"
            ],
            "image/png": "[encoded data removed]"
          },
          "metadata": {}
        },
        {
          "output_type": "stream",
          "name": "stdout",
          "text": [
            "('purple', 'down')\n"
          ]
        },
        {
          "output_type": "display_data",
          "data": {
            "text/plain": [
              "<Figure size 210x210 with 1 Axes>"
            ],
            "image/png": "[encoded data removed]"
          },
          "metadata": {}
        },
        {
          "output_type": "stream",
          "name": "stdout",
          "text": [
            "('yellow', 'right')\n"
          ]
        },
        {
          "output_type": "display_data",
          "data": {
            "text/plain": [
              "<Figure size 210x210 with 1 Axes>"
            ],
            "image/png": "[encoded data removed]"
          },
          "metadata": {}
        },
        {
          "output_type": "stream",
          "name": "stdout",
          "text": [
            "('red', 'down')\n"
          ]
        },
        {
          "output_type": "display_data",
          "data": {
            "text/plain": [
              "<Figure size 210x210 with 1 Axes>"
            ],
            "image/png": "[encoded data removed]"
          },
          "metadata": {}
        },
        {
          "output_type": "stream",
          "name": "stdout",
          "text": [
            "('yellow', 'up')\n"
          ]
        },
        {
          "output_type": "display_data",
          "data": {
            "text/plain": [
              "<Figure size 210x210 with 1 Axes>"
            ],
            "image/png": "[encoded data removed]"
          },
          "metadata": {}
        },
        {
          "output_type": "stream",
          "name": "stdout",
          "text": [
            "('yellow', 'left')\n"
          ]
        },
        {
          "output_type": "display_data",
          "data": {
            "text/plain": [
              "<Figure size 210x210 with 1 Axes>"
            ],
            "image/png": "[encoded data removed]"
          },
          "metadata": {}
        },
        {
          "output_type": "stream",
          "name": "stdout",
          "text": [
            "('yellow', 'left')\n"
          ]
        },
        {
          "output_type": "display_data",
          "data": {
            "text/plain": [
              "<Figure size 210x210 with 1 Axes>"
            ],
            "image/png": "[encoded data removed]"
          },
          "metadata": {}
        },
        {
          "output_type": "stream",
          "name": "stdout",
          "text": [
            "('purple', 'up')\n"
          ]
        },
        {
          "output_type": "display_data",
          "data": {
            "text/plain": [
              "<Figure size 210x210 with 1 Axes>"
            ],
            "image/png": "[encoded data removed]"
          },
          "metadata": {}
        },
        {
          "output_type": "stream",
          "name": "stdout",
          "text": [
            "('purple', 'up')\n"
          ]
        },
        {
          "output_type": "display_data",
          "data": {
            "text/plain": [
              "<Figure size 210x210 with 1 Axes>"
            ],
            "image/png": "[encoded data removed]"
          },
          "metadata": {}
        },
        {
          "output_type": "stream",
          "name": "stdout",
          "text": [
            "('blue', 'right')\n"
          ]
        },
        {
          "output_type": "display_data",
          "data": {
            "text/plain": [
              "<Figure size 210x210 with 1 Axes>"
            ],
            "image/png": "[encoded data removed]"
          },
          "metadata": {}
        },
        {
          "output_type": "stream",
          "name": "stdout",
          "text": [
            "('purple', 'left')\n"
          ]
        },
        {
          "output_type": "display_data",
          "data": {
            "text/plain": [
              "<Figure size 210x210 with 1 Axes>"
            ],
            "image/png": "[encoded data removed]"
          },
          "metadata": {}
        },
        {
          "output_type": "stream",
          "name": "stdout",
          "text": [
            "('purple', 'down')\n"
          ]
        },
        {
          "output_type": "display_data",
          "data": {
            "text/plain": [
              "<Figure size 210x210 with 1 Axes>"
            ],
            "image/png": "[encoded data removed]"
          },
          "metadata": {}
        },
        {
          "output_type": "stream",
          "name": "stdout",
          "text": [
            "('yellow', 'right')\n"
          ]
        },
        {
          "output_type": "display_data",
          "data": {
            "text/plain": [
              "<Figure size 210x210 with 1 Axes>"
            ],
            "image/png": "[encoded data removed]"
          },
          "metadata": {}
        },
        {
          "output_type": "stream",
          "name": "stdout",
          "text": [
            "('yellow', 'right')\n"
          ]
        },
        {
          "output_type": "display_data",
          "data": {
            "text/plain": [
              "<Figure size 210x210 with 1 Axes>"
            ],
            "image/png": "[encoded data removed]"
          },
          "metadata": {}
        },
        {
          "output_type": "stream",
          "name": "stdout",
          "text": [
            "('red', 'up')\n"
          ]
        },
        {
          "output_type": "display_data",
          "data": {
            "text/plain": [
              "<Figure size 210x210 with 1 Axes>"
            ],
            "image/png": "[encoded data removed]"
          },
          "metadata": {}
        },
        {
          "output_type": "stream",
          "name": "stdout",
          "text": [
            "('purple', 'left')\n"
          ]
        },
        {
          "output_type": "display_data",
          "data": {
            "text/plain": [
              "<Figure size 210x210 with 1 Axes>"
            ],
            "image/png": "[encoded data removed]"
          },
          "metadata": {}
        },
        {
          "output_type": "stream",
          "name": "stdout",
          "text": [
            "('blue', 'up')\n"
          ]
        },
        {
          "output_type": "display_data",
          "data": {
            "text/plain": [
              "<Figure size 210x210 with 1 Axes>"
            ],
            "image/png": "[encoded data removed]"
          },
          "metadata": {}
        },
        {
          "output_type": "stream",
          "name": "stdout",
          "text": [
            "('purple', 'down')\n"
          ]
        },
        {
          "output_type": "display_data",
          "data": {
            "text/plain": [
              "<Figure size 210x210 with 1 Axes>"
            ],
            "image/png": "[encoded data removed]"
          },
          "metadata": {}
        },
        {
          "output_type": "stream",
          "name": "stdout",
          "text": [
            "('red', 'down')\n"
          ]
        },
        {
          "output_type": "display_data",
          "data": {
            "text/plain": [
              "<Figure size 210x210 with 1 Axes>"
            ],
            "image/png": "[encoded data removed]"
          },
          "metadata": {}
        },
        {
          "output_type": "stream",
          "name": "stdout",
          "text": [
            "('yellow', 'left')\n"
          ]
        },
        {
          "output_type": "display_data",
          "data": {
            "text/plain": [
              "<Figure size 210x210 with 1 Axes>"
            ],
            "image/png": "[encoded data removed]"
          },
          "metadata": {}
        },
        {
          "output_type": "stream",
          "name": "stdout",
          "text": [
            "('blue', 'up')\n"
          ]
        },
        {
          "output_type": "display_data",
          "data": {
            "text/plain": [
              "<Figure size 210x210 with 1 Axes>"
            ],
            "image/png": "[encoded data removed]"
          },
          "metadata": {}
        },
        {
          "output_type": "stream",
          "name": "stdout",
          "text": [
            "('yellow', 'left')\n"
          ]
        },
        {
          "output_type": "display_data",
          "data": {
            "text/plain": [
              "<Figure size 210x210 with 1 Axes>"
            ],
            "image/png": "[encoded data removed]"
          },
          "metadata": {}
        },
        {
          "output_type": "stream",
          "name": "stdout",
          "text": [
            "('purple', 'right')\n"
          ]
        },
        {
          "output_type": "display_data",
          "data": {
            "text/plain": [
              "<Figure size 210x210 with 1 Axes>"
            ],
            "image/png": "[encoded data removed]"
          },
          "metadata": {}
        },
        {
          "output_type": "stream",
          "name": "stdout",
          "text": [
            "('red', 'down')\n"
          ]
        },
        {
          "output_type": "display_data",
          "data": {
            "text/plain": [
              "<Figure size 210x210 with 1 Axes>"
            ],
            "image/png": "[encoded data removed]"
          },
          "metadata": {}
        },
        {
          "output_type": "stream",
          "name": "stdout",
          "text": [
            "('blue', 'left')\n"
          ]
        },
        {
          "output_type": "display_data",
          "data": {
            "text/plain": [
              "<Figure size 210x210 with 1 Axes>"
            ],
            "image/png": "[encoded data removed]"
          },
          "metadata": {}
        },
        {
          "output_type": "stream",
          "name": "stdout",
          "text": [
            "('purple', 'right')\n"
          ]
        },
        {
          "output_type": "display_data",
          "data": {
            "text/plain": [
              "<Figure size 210x210 with 1 Axes>"
            ],
            "image/png": "[encoded data removed]"
          },
          "metadata": {}
        },
        {
          "output_type": "stream",
          "name": "stdout",
          "text": [
            "('red', 'right')\n"
          ]
        },
        {
          "output_type": "display_data",
          "data": {
            "text/plain": [
              "<Figure size 210x210 with 1 Axes>"
            ],
            "image/png": "[encoded data removed]"
          },
          "metadata": {}
        },
        {
          "output_type": "stream",
          "name": "stdout",
          "text": [
            "('purple', 'up')\n"
          ]
        },
        {
          "output_type": "display_data",
          "data": {
            "text/plain": [
              "<Figure size 210x210 with 1 Axes>"
            ],
            "image/png": "[encoded data removed]"
          },
          "metadata": {}
        },
        {
          "output_type": "stream",
          "name": "stdout",
          "text": [
            "('purple', 'up')\n"
          ]
        },
        {
          "output_type": "display_data",
          "data": {
            "text/plain": [
              "<Figure size 210x210 with 1 Axes>"
            ],
            "image/png": "[encoded data removed]"
          },
          "metadata": {}
        },
        {
          "output_type": "stream",
          "name": "stdout",
          "text": [
            "('red', 'right')\n"
          ]
        },
        {
          "output_type": "display_data",
          "data": {
            "text/plain": [
              "<Figure size 210x210 with 1 Axes>"
            ],
            "image/png": "[encoded data removed]"
          },
          "metadata": {}
        },
        {
          "output_type": "stream",
          "name": "stdout",
          "text": [
            "\n",
            "SEARCH SPACE STATS:\n",
            "Total nodes generated          =     1455  (includes start)\n",
            "Nodes discarded by loop_check  =     1067  (388 distinct states added to queue)\n",
            "Nodes tested (by goal_test)    =      386  (385 expanded + 1 goal)\n",
            "Nodes left in queue            =        2\n",
            "\n",
            "Time taken = 4.6483 seconds\n",
            "\n"
          ]
        }
      ]
    },
    {
      "cell_type": "markdown",
      "source": [
        "## A bigger and harder test case"
      ],
      "metadata": {
        "id": "MPyAOUaE7ieD"
      }
    },
    {
      "cell_type": "code",
      "source": [
        "big   = [[1,3,0,0,0,0,6],\n",
        "         [1,3,4,4,0,0,0],\n",
        "         [3,3,4,0,0,0,0],\n",
        "         [0,4,4,2,0,0,0],\n",
        "         [0,0,2,2,5,5,5]]\n",
        "\n",
        "big_goal   = [[0,0,0,0,0,0,0],\n",
        "              [0,0,0,0,0,0,0],\n",
        "              [0,0,0,0,0,0,0],\n",
        "              [0,0,0,0,0,0,1],\n",
        "              [0,0,0,0,0,0,1]]\n",
        "\n",
        "big_puzzle =  SlidingBlocksPuzzle( big, big_goal )\n",
        "\n",
        "big_search = search( big_puzzle, 'BF/FIFO', 10000000,\n",
        "                     loop_check=True, randomise=False, show_state_path=True, return_info=True)\n"
      ],
      "metadata": {
        "id": "__9uZ8y6m8IQ"
      },
      "execution_count": null,
      "outputs": []
    },
    {
      "cell_type": "markdown",
      "source": [
        "## Adding a Heuristic\n",
        "\n",
        "The following `red_right_heuristic` is that, given any block state, will return the number of columns that the red block (the block identified by colour `1` needs to travel to the right to reach the rightmost column.\n",
        "\n",
        "Here, we are using a typical idea for constructing a heuristic. We are calculating a number that ignores a lot of the constraints that apply to an actual solution and thereby calculates a minimum bound on the number of moves required to reach the goal state. In this case the heuristic calculation ignores the issue that there may be other blocks than need to be moved and also ignores the fact that the red block may have to be moved up and down as well as left to right. But we are sure that at least one move will need to be used for each of the remaining columns that the red block needs to be moved to reach the right edge of the grid.  "
      ],
      "metadata": {
        "id": "eFtPqeZY7oLj"
      }
    },
    {
      "cell_type": "code",
      "source": [
        "def red_right_heuristic(state):\n",
        "    for row in state.blockstate:\n",
        "      for i, col in enumerate(row):\n",
        "          if col == 1:\n",
        "            return 6-i\n",
        "\n"
      ],
      "metadata": {
        "id": "LfEWfEJxDVm_"
      },
      "execution_count": null,
      "outputs": []
    },
    {
      "cell_type": "markdown",
      "source": [
        "## See how the heuristic helps\n",
        "\n",
        "Now we can search for a solution to `big_puzzle` using the simple, and seemingly quite crude `red_right_heuristic`. Let's see what happens:"
      ],
      "metadata": {
        "id": "Shbw-0G1-bgb"
      }
    },
    {
      "cell_type": "code",
      "source": [
        "\n",
        "\n",
        "big_search_rr = search( big_puzzle, 'BF/FIFO', 10000000, heuristic=red_right_heuristic,\n",
        "                     loop_check=True, randomise=False, show_state_path=True, return_info=True)\n",
        "\n"
      ],
      "metadata": {
        "id": "lZRIEeOl-Y7C"
      },
      "execution_count": null,
      "outputs": []
    },
    {
      "cell_type": "markdown",
      "source": [
        "## Now an even harder case\n",
        "\n",
        "Can this heuristic work for an even harder puzzle?"
      ],
      "metadata": {
        "id": "9Cw63A6J-TXF"
      }
    },
    {
      "cell_type": "code",
      "source": [
        "big   = [[1,3,0,0,0,0,6],\n",
        "         [1,3,4,4,0,0,0],\n",
        "         [3,3,4,0,0,0,0],\n",
        "         [0,4,4,2,0,0,0],\n",
        "         [0,0,2,2,5,5,5]]\n",
        "\n",
        "hard_goal   = [[6,2,0,0,0,0,0],\n",
        "               [2,2,0,0,0,0,0],\n",
        "               [0,0,0,0,0,0,0],\n",
        "               [0,0,0,0,0,0,1],\n",
        "               [0,0,0,0,0,0,1]]\n",
        "\n",
        "hard_puzzle =  SlidingBlocksPuzzle( big, hard_goal )\n",
        "\n",
        "\n",
        "\n",
        "hard_search = search( hard_puzzle, 'BF/FIFO', 10000000, heuristic=red_right_heuristic,\n",
        "                     loop_check=True, randomise=False, show_state_path=True, return_info=True)\n"
      ],
      "metadata": {
        "id": "TPnnG2fS-CeW"
      },
      "execution_count": null,
      "outputs": []
    },
    {
      "cell_type": "markdown",
      "source": [
        "**What happens if you try to solve the `hard_puzzle` without the heuristic?**"
      ],
      "metadata": {
        "id": "0iTdYZdc-6DU"
      }
    },
    {
      "cell_type": "markdown",
      "source": [
        "## Improving the Heuristic\n",
        "Even if we still don't have a good idea of what would be a really good heuristic we can still add some extra information to the heuristic function in some simple ways.\n",
        "For example, the purple tile will need to be moved to its destination cell at  `(0,0)` and every row and collum it is away from that cell will take at least one move. So if we find its position we can add the Manhattan distance of its position to that destination.\n",
        "\n",
        "Since red and purple will need to be moved separately, we can simply add the values of the heuristics regarding red and purple to get another admissible heuristic. (And this will dominate both heuristics based on the positions of either red or purple alone.)\n",
        "\n",
        "The following code defines this heuristic for purple and also the combined `red_and_purple` heuristic.\n"
      ],
      "metadata": {
        "id": "Csu9dSNzOb_e"
      }
    },
    {
      "cell_type": "code",
      "source": [
        "def purple_heuristic(state):\n",
        "      for r, row in enumerate(state.blockstate):\n",
        "        for c, col in enumerate(row):\n",
        "          if col == 6:\n",
        "            return r+c\n",
        "\n",
        "def red_and_purple_heuristic(state):\n",
        "  return (red_right_heuristic(state) + purple_heuristic(state))\n",
        "\n",
        "clever_search = search( hard_puzzle, 'BF/FIFO', 10000000, heuristic = red_and_purple_heuristic,\n",
        "                     loop_check=True, randomise=False, show_state_path=True, return_info=True)"
      ],
      "metadata": {
        "id": "04f4Gy6Wvm3o"
      },
      "execution_count": null,
      "outputs": []
    },
    {
      "cell_type": "markdown",
      "source": [
        "## Collecting and Tabulating Results\n",
        "\n",
        "As we saw in earlier exercercises, when researching search problems and algorithms, it can be informative to collect results of a series of tests in the form of a table. This is illustrated in the next code cell."
      ],
      "metadata": {
        "id": "f0T575aJx1Yg"
      }
    },
    {
      "cell_type": "code",
      "source": [
        "\n",
        "TEST_RESULTS =[small_search, big_search, big_search_rr, hard_search, clever_search]\n",
        "\n",
        "# Specify symbols for termination conditions:\n",
        "short_tc = {\"GOAL_STATE_FOUND\"     : \"Y\",\n",
        "            \"NODE_LIMIT_EXCEEDED\"  : \"!\",\n",
        "            \"SEARH-SPACE_EXHAUSTED\": \"x\"}\n",
        "\n",
        "print(\"\\n                **TESTS SUMMARY**\\n\")\n",
        "\n",
        "print(\"Test    #max   Result   #gen     #inQ    Time s\")\n",
        "for i, test in enumerate(TEST_RESULTS):\n",
        "    max  = test['args']['max_nodes']\n",
        "    tc  = test['result']['termination_condition']\n",
        "    stc = short_tc[tc]\n",
        "\n",
        "    ng  = test['search_stats']['nodes_generated']\n",
        "    nq  = test['search_stats']['nodes_left_in_queue']\n",
        "    time = round( test['search_stats']['time_taken'], 2 )\n",
        "    print( f\"{i:>3}: {max:>8}    {stc}  {ng:>8} {nq:>8}     {time} \")"
      ],
      "metadata": {
        "id": "1Qms4JbneNFX"
      },
      "execution_count": null,
      "outputs": []
    }
  ]
}